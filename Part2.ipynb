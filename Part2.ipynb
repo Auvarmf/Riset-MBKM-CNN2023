{
  "nbformat": 4,
  "nbformat_minor": 0,
  "metadata": {
    "colab": {
      "provenance": [],
      "authorship_tag": "ABX9TyNmpAhEFJCYzyKtjaC1vyHW",
      "include_colab_link": true
    },
    "kernelspec": {
      "name": "python3",
      "display_name": "Python 3"
    },
    "language_info": {
      "name": "python"
    }
  },
  "cells": [
    {
      "cell_type": "markdown",
      "metadata": {
        "id": "view-in-github",
        "colab_type": "text"
      },
      "source": [
        "<a href=\"https://colab.research.google.com/github/Auvarmf/Riset-MBKM-CMM2023/blob/main/Part2.ipynb\" target=\"_parent\"><img src=\"https://colab.research.google.com/assets/colab-badge.svg\" alt=\"Open In Colab\"/></a>"
      ]
    },
    {
      "cell_type": "markdown",
      "source": [
        "# Exercise: Kucing Berhitung"
      ],
      "metadata": {
        "id": "sGRUkqdizzno"
      }
    },
    {
      "cell_type": "code",
      "execution_count": 15,
      "metadata": {
        "colab": {
          "base_uri": "https://localhost:8080/"
        },
        "id": "Hw8GBDa9kMtM",
        "outputId": "481e907e-80b1-45cb-ebc3-d439814bc6a7"
      },
      "outputs": [
        {
          "output_type": "stream",
          "name": "stdout",
          "text": [
            "0\n",
            "1\n",
            "2\n",
            "3\n",
            "4\n",
            "5\n",
            "6\n",
            "7\n",
            "8\n",
            "9\n",
            "10\n",
            "11\n",
            "12\n",
            "13\n",
            "14\n",
            "15\n",
            "16\n",
            "17\n",
            "18\n",
            "19\n",
            "20\n"
          ]
        }
      ],
      "source": [
        "# Menggunakan loop for untuk menelusuri range angka dari 0 hingga 20\n",
        "# dan mencetak setiap angka satu per satu\n",
        "for angka in range(0, 21):\n",
        "  print(angka)"
      ]
    },
    {
      "cell_type": "code",
      "source": [
        "# Menggunakan loop for untuk menelusuri range angka dari 0 hingga 20\n",
        "# dan melakukan pengecekan kondisi:\n",
        "# jika angka lebih dari 18, mencetak angka 18\n",
        "# jika tidak, mencetak angka tersebut\n",
        "for angka in range(0, 21):\n",
        "  if angka > 18:\n",
        "    print(18)\n",
        "  else:\n",
        "    print(angka)"
      ],
      "metadata": {
        "colab": {
          "base_uri": "https://localhost:8080/"
        },
        "id": "-fsOlHOz03RQ",
        "outputId": "00c23001-52e4-4004-8f74-735badd6b4ed"
      },
      "execution_count": 16,
      "outputs": [
        {
          "output_type": "stream",
          "name": "stdout",
          "text": [
            "0\n",
            "1\n",
            "2\n",
            "3\n",
            "4\n",
            "5\n",
            "6\n",
            "7\n",
            "8\n",
            "9\n",
            "10\n",
            "11\n",
            "12\n",
            "13\n",
            "14\n",
            "15\n",
            "16\n",
            "17\n",
            "18\n",
            "18\n",
            "18\n"
          ]
        }
      ]
    },
    {
      "cell_type": "code",
      "source": [
        "# Menggunakan loop for untuk menelusuri range angka dari 0 hingga 20\n",
        "# dan mencetak nilai minimum antara angka tersebut dengan 18\n",
        "# sehingga mencetak angka dari 0 hingga 18\n",
        "for angka in range(0, 21):\n",
        "  print(min(angka, 18))"
      ],
      "metadata": {
        "colab": {
          "base_uri": "https://localhost:8080/"
        },
        "id": "WNivDr1X1sPU",
        "outputId": "6d66984f-527d-49ea-f636-4d196887c05e"
      },
      "execution_count": 17,
      "outputs": [
        {
          "output_type": "stream",
          "name": "stdout",
          "text": [
            "0\n",
            "1\n",
            "2\n",
            "3\n",
            "4\n",
            "5\n",
            "6\n",
            "7\n",
            "8\n",
            "9\n",
            "10\n",
            "11\n",
            "12\n",
            "13\n",
            "14\n",
            "15\n",
            "16\n",
            "17\n",
            "18\n",
            "18\n",
            "18\n"
          ]
        }
      ]
    },
    {
      "cell_type": "markdown",
      "source": [
        "# Daftar Pangkat"
      ],
      "metadata": {
        "id": "MJ9BOTXd13Aj"
      }
    },
    {
      "cell_type": "code",
      "source": [
        "# Membuat list a kosong\n",
        "# Menggunakan loop for untuk menelusuri range angka dari 0 hingga 4\n",
        "# dan menambahkan kuadrat dari setiap angka ke dalam list a\n",
        "a = []\n",
        "for i in range(0, 5):\n",
        "  a.append(i**2)\n",
        "\n",
        "# Menampilkan list a\n",
        "a"
      ],
      "metadata": {
        "colab": {
          "base_uri": "https://localhost:8080/"
        },
        "id": "Ycyq9EJu18EL",
        "outputId": "7b328b84-60ff-459f-d87e-8f021f67de98"
      },
      "execution_count": 18,
      "outputs": [
        {
          "output_type": "execute_result",
          "data": {
            "text/plain": [
              "[0, 1, 4, 9, 16]"
            ]
          },
          "metadata": {},
          "execution_count": 18
        }
      ]
    },
    {
      "cell_type": "markdown",
      "source": [
        "# List Comprehension"
      ],
      "metadata": {
        "id": "WVfglVha2hLY"
      }
    },
    {
      "cell_type": "code",
      "source": [
        "# Menggunakan list comprehension untuk membuat list a yang berisi kuadrat dari setiap angka dalam range 0 hingga 4\n",
        "a = [i**2 for i in range(0, 5)]\n",
        "\n",
        "# Menampilkan list a\n",
        "a"
      ],
      "metadata": {
        "colab": {
          "base_uri": "https://localhost:8080/"
        },
        "id": "xNP_pvBX2j-U",
        "outputId": "170f99d8-06bd-43b1-eb7d-df880fcf07c2"
      },
      "execution_count": 19,
      "outputs": [
        {
          "output_type": "execute_result",
          "data": {
            "text/plain": [
              "[0, 1, 4, 9, 16]"
            ]
          },
          "metadata": {},
          "execution_count": 19
        }
      ]
    }
  ]
}