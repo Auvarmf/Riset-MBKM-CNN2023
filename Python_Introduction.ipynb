{
  "nbformat": 4,
  "nbformat_minor": 0,
  "metadata": {
    "colab": {
      "provenance": [],
      "authorship_tag": "ABX9TyN3om49DFn/P4id0gIgofag",
      "include_colab_link": true
    },
    "kernelspec": {
      "name": "python3",
      "display_name": "Python 3"
    },
    "language_info": {
      "name": "python"
    }
  },
  "cells": [
    {
      "cell_type": "markdown",
      "metadata": {
        "id": "view-in-github",
        "colab_type": "text"
      },
      "source": [
        "<a href=\"https://colab.research.google.com/github/Auvarmf/Riset-MBKM-CMM2023/blob/main/Python_Introduction.ipynb\" target=\"_parent\"><img src=\"https://colab.research.google.com/assets/colab-badge.svg\" alt=\"Open In Colab\"/></a>"
      ]
    },
    {
      "cell_type": "markdown",
      "source": [
        "# Print"
      ],
      "metadata": {
        "id": "g_GUsS_c68MJ"
      }
    },
    {
      "cell_type": "code",
      "execution_count": 112,
      "metadata": {
        "colab": {
          "base_uri": "https://localhost:8080/"
        },
        "id": "smgWGQC_6hii",
        "outputId": "92a6464a-66b6-4cba-f340-74a2ab7872ac"
      },
      "outputs": [
        {
          "output_type": "stream",
          "name": "stdout",
          "text": [
            "Halo, nama saya Auvar\n"
          ]
        }
      ],
      "source": [
        "# menggunakan petik 2 \"\"\n",
        "print(\"Halo, nama saya Auvar\")"
      ]
    },
    {
      "cell_type": "code",
      "source": [
        "# menggunakan petik 1 ''\n",
        "print('Halo, nama saya Auvar')"
      ],
      "metadata": {
        "colab": {
          "base_uri": "https://localhost:8080/"
        },
        "id": "rkWJGDUe7JPl",
        "outputId": "1b2d38c5-9eb2-4ae5-f238-8acca0a35bbc"
      },
      "execution_count": 113,
      "outputs": [
        {
          "output_type": "stream",
          "name": "stdout",
          "text": [
            "Halo, nama saya Auvar\n"
          ]
        }
      ]
    },
    {
      "cell_type": "code",
      "source": [
        "print(\"\"\"Halo, nama saya Auvar\"\"\")"
      ],
      "metadata": {
        "colab": {
          "base_uri": "https://localhost:8080/"
        },
        "id": "co_6ErEp7XPI",
        "outputId": "962964fc-488b-4a1b-deea-76a81bc930c0"
      },
      "execution_count": 114,
      "outputs": [
        {
          "output_type": "stream",
          "name": "stdout",
          "text": [
            "Halo, nama saya Auvar\n"
          ]
        }
      ]
    },
    {
      "cell_type": "markdown",
      "source": [
        "# Variable"
      ],
      "metadata": {
        "id": "SAMY065W7fAJ"
      }
    },
    {
      "cell_type": "code",
      "source": [
        "# menambahkan nilai 1 pada variable a\n",
        "a = 1"
      ],
      "metadata": {
        "id": "qSVdPHOe7hIh"
      },
      "execution_count": 115,
      "outputs": []
    },
    {
      "cell_type": "code",
      "source": [
        "# print nilai pada variable a\n",
        "a"
      ],
      "metadata": {
        "colab": {
          "base_uri": "https://localhost:8080/"
        },
        "id": "T80MWpoa7jyq",
        "outputId": "f640a28f-7c4b-4f1b-9be0-8cdfd282115a"
      },
      "execution_count": 116,
      "outputs": [
        {
          "output_type": "execute_result",
          "data": {
            "text/plain": [
              "1"
            ]
          },
          "metadata": {},
          "execution_count": 116
        }
      ]
    },
    {
      "cell_type": "code",
      "source": [
        "# menambahkan nilai pada dua variable\n",
        "a, b = 2, 3"
      ],
      "metadata": {
        "id": "BJxVzZLS7ksK"
      },
      "execution_count": 117,
      "outputs": []
    },
    {
      "cell_type": "code",
      "source": [
        "# print nilai pada variable b\n",
        "b"
      ],
      "metadata": {
        "colab": {
          "base_uri": "https://localhost:8080/"
        },
        "id": "zKjNB99s7m1D",
        "outputId": "3425e9f2-52bf-4ff7-c58c-89db5b3220f4"
      },
      "execution_count": 118,
      "outputs": [
        {
          "output_type": "execute_result",
          "data": {
            "text/plain": [
              "3"
            ]
          },
          "metadata": {},
          "execution_count": 118
        }
      ]
    },
    {
      "cell_type": "code",
      "source": [
        "# print nilai pada variable a\n",
        "a"
      ],
      "metadata": {
        "colab": {
          "base_uri": "https://localhost:8080/"
        },
        "id": "puUmKF8W7nsU",
        "outputId": "20bfa98c-f772-4e5a-f63b-a9f73d57b167"
      },
      "execution_count": 119,
      "outputs": [
        {
          "output_type": "execute_result",
          "data": {
            "text/plain": [
              "2"
            ]
          },
          "metadata": {},
          "execution_count": 119
        }
      ]
    },
    {
      "cell_type": "code",
      "source": [
        "# print nilai pada variable a dan b\n",
        "a, b"
      ],
      "metadata": {
        "colab": {
          "base_uri": "https://localhost:8080/"
        },
        "id": "Wx74aX7c7pv5",
        "outputId": "7c669910-43c3-4519-8d88-01d960c857b9"
      },
      "execution_count": 120,
      "outputs": [
        {
          "output_type": "execute_result",
          "data": {
            "text/plain": [
              "(2, 3)"
            ]
          },
          "metadata": {},
          "execution_count": 120
        }
      ]
    },
    {
      "cell_type": "markdown",
      "source": [
        "# List"
      ],
      "metadata": {
        "id": "jIz-T4p97vV1"
      }
    },
    {
      "cell_type": "code",
      "source": [
        "# menambahkan nilai pada variable a dengan menggunakan list\n",
        "a = [1, 2, 3, \"Empat\", \"Lima\", 6]"
      ],
      "metadata": {
        "id": "-OWM5rqD7xNt"
      },
      "execution_count": 121,
      "outputs": []
    },
    {
      "cell_type": "code",
      "source": [
        "# print nilai pada variable a\n",
        "a"
      ],
      "metadata": {
        "colab": {
          "base_uri": "https://localhost:8080/"
        },
        "id": "RaAOJbdx74LL",
        "outputId": "2aba2e72-6fcf-41de-9fcf-60c5e4fc7303"
      },
      "execution_count": 122,
      "outputs": [
        {
          "output_type": "execute_result",
          "data": {
            "text/plain": [
              "[1, 2, 3, 'Empat', 'Lima', 6]"
            ]
          },
          "metadata": {},
          "execution_count": 122
        }
      ]
    },
    {
      "cell_type": "code",
      "source": [
        "# print nilai pada list index ke 0\n",
        "a[0]"
      ],
      "metadata": {
        "colab": {
          "base_uri": "https://localhost:8080/"
        },
        "id": "ugpBtbvN77ts",
        "outputId": "21414769-ecd6-4c79-b3c5-7da52ea37e60"
      },
      "execution_count": 123,
      "outputs": [
        {
          "output_type": "execute_result",
          "data": {
            "text/plain": [
              "1"
            ]
          },
          "metadata": {},
          "execution_count": 123
        }
      ]
    },
    {
      "cell_type": "code",
      "source": [
        "# print nilai pada list index ke 1\n",
        "a[1]"
      ],
      "metadata": {
        "colab": {
          "base_uri": "https://localhost:8080/"
        },
        "id": "0ULnD44g79na",
        "outputId": "3e927328-3e76-4e85-c5d9-fbe833e08133"
      },
      "execution_count": 124,
      "outputs": [
        {
          "output_type": "execute_result",
          "data": {
            "text/plain": [
              "2"
            ]
          },
          "metadata": {},
          "execution_count": 124
        }
      ]
    },
    {
      "cell_type": "code",
      "source": [
        "# print nilai pada list index -1 atau index ke 5\n",
        "a[-1]"
      ],
      "metadata": {
        "colab": {
          "base_uri": "https://localhost:8080/"
        },
        "id": "hwStoTEM8Awd",
        "outputId": "994cd4c8-ee78-42a6-8ef5-704aae117e29"
      },
      "execution_count": 125,
      "outputs": [
        {
          "output_type": "execute_result",
          "data": {
            "text/plain": [
              "6"
            ]
          },
          "metadata": {},
          "execution_count": 125
        }
      ]
    },
    {
      "cell_type": "code",
      "source": [
        "# print nilai pada list index -2 atau index ke 4\n",
        "a[-2]"
      ],
      "metadata": {
        "colab": {
          "base_uri": "https://localhost:8080/",
          "height": 35
        },
        "id": "DDpK52hT8CQx",
        "outputId": "4aa4d191-8436-4c81-c728-56457b226ae8"
      },
      "execution_count": 126,
      "outputs": [
        {
          "output_type": "execute_result",
          "data": {
            "text/plain": [
              "'Lima'"
            ],
            "application/vnd.google.colaboratory.intrinsic+json": {
              "type": "string"
            }
          },
          "metadata": {},
          "execution_count": 126
        }
      ]
    },
    {
      "cell_type": "code",
      "source": [
        "# menambahkan nilai 7 dengan append pada list\n",
        "a.append(7)"
      ],
      "metadata": {
        "id": "23Ur7ZH58EOc"
      },
      "execution_count": 127,
      "outputs": []
    },
    {
      "cell_type": "code",
      "source": [
        "# print list\n",
        "a"
      ],
      "metadata": {
        "colab": {
          "base_uri": "https://localhost:8080/"
        },
        "id": "oMyEFdpI8Loq",
        "outputId": "8f29c4cd-2d50-48f7-90bc-3d66588ac469"
      },
      "execution_count": 128,
      "outputs": [
        {
          "output_type": "execute_result",
          "data": {
            "text/plain": [
              "[1, 2, 3, 'Empat', 'Lima', 6, 7]"
            ]
          },
          "metadata": {},
          "execution_count": 128
        }
      ]
    },
    {
      "cell_type": "code",
      "source": [
        "# melihat panjang data pada list\n",
        "len(a)"
      ],
      "metadata": {
        "colab": {
          "base_uri": "https://localhost:8080/"
        },
        "id": "rdTr41sY8Mam",
        "outputId": "f2ec6313-8aab-4b6b-b051-480f1946c135"
      },
      "execution_count": 129,
      "outputs": [
        {
          "output_type": "execute_result",
          "data": {
            "text/plain": [
              "7"
            ]
          },
          "metadata": {},
          "execution_count": 129
        }
      ]
    },
    {
      "cell_type": "code",
      "source": [
        "# deklarasi list kosong\n",
        "a = []"
      ],
      "metadata": {
        "id": "MTndvwko8Qeo"
      },
      "execution_count": 130,
      "outputs": []
    },
    {
      "cell_type": "code",
      "source": [
        "# print list\n",
        "a"
      ],
      "metadata": {
        "colab": {
          "base_uri": "https://localhost:8080/"
        },
        "id": "60eca7HW8Xd9",
        "outputId": "80016ac6-e638-43ab-a5de-8d4edcb1e808"
      },
      "execution_count": 131,
      "outputs": [
        {
          "output_type": "execute_result",
          "data": {
            "text/plain": [
              "[]"
            ]
          },
          "metadata": {},
          "execution_count": 131
        }
      ]
    },
    {
      "cell_type": "code",
      "source": [
        "# menambahkan nilai 1 dengan append pada list\n",
        "a.append(1)"
      ],
      "metadata": {
        "id": "NlUVWg0_8Ych"
      },
      "execution_count": 132,
      "outputs": []
    },
    {
      "cell_type": "code",
      "source": [
        "# print list\n",
        "a"
      ],
      "metadata": {
        "colab": {
          "base_uri": "https://localhost:8080/"
        },
        "id": "Qzj9dZEG8bI5",
        "outputId": "42197084-778c-4f96-a082-689bfe0babc6"
      },
      "execution_count": 133,
      "outputs": [
        {
          "output_type": "execute_result",
          "data": {
            "text/plain": [
              "[1]"
            ]
          },
          "metadata": {},
          "execution_count": 133
        }
      ]
    },
    {
      "cell_type": "code",
      "source": [
        "# menambahkan nilai 2 dengan append pada list\n",
        "a.append(2)"
      ],
      "metadata": {
        "id": "kXrKMzHq8bs8"
      },
      "execution_count": 134,
      "outputs": []
    },
    {
      "cell_type": "code",
      "source": [
        "# print list\n",
        "a"
      ],
      "metadata": {
        "colab": {
          "base_uri": "https://localhost:8080/"
        },
        "id": "wBj97_M68d6w",
        "outputId": "54e77397-b5e3-44c7-f6d7-db7298870291"
      },
      "execution_count": 135,
      "outputs": [
        {
          "output_type": "execute_result",
          "data": {
            "text/plain": [
              "[1, 2]"
            ]
          },
          "metadata": {},
          "execution_count": 135
        }
      ]
    },
    {
      "cell_type": "markdown",
      "source": [
        "# Slicing\n"
      ],
      "metadata": {
        "id": "plorZ4Ej8f3-"
      }
    },
    {
      "cell_type": "markdown",
      "source": [
        "inclusive : exclusive : step"
      ],
      "metadata": {
        "id": "Qn30vY2R8kRN"
      }
    },
    {
      "cell_type": "code",
      "source": [
        "# Memotong dan mengambil potongan-potongan data dari suatu list atau string\n",
        "a = [0, 1, 2, 3, 4, 5, 6]"
      ],
      "metadata": {
        "id": "VP2yHvPe8hu4"
      },
      "execution_count": 136,
      "outputs": []
    },
    {
      "cell_type": "code",
      "source": [
        "# Mengambil potongan data dari indeks 0 hingga 1 (indeks 2 tidak termasuk)\n",
        "a[0 : 2]"
      ],
      "metadata": {
        "colab": {
          "base_uri": "https://localhost:8080/"
        },
        "id": "hot5yWPM81Qx",
        "outputId": "e1b012a8-97e0-4290-ec8f-f2e64a92e6a3"
      },
      "execution_count": 137,
      "outputs": [
        {
          "output_type": "execute_result",
          "data": {
            "text/plain": [
              "[0, 1]"
            ]
          },
          "metadata": {},
          "execution_count": 137
        }
      ]
    },
    {
      "cell_type": "code",
      "source": [
        "# Mengambil potongan data dari indeks 0 hingga 4 (indeks 5 tidak termasuk)\n",
        "a[0 : 5]"
      ],
      "metadata": {
        "colab": {
          "base_uri": "https://localhost:8080/"
        },
        "id": "GtSiJnF484HJ",
        "outputId": "2cdf6285-1925-4653-b3da-24afd5f16c04"
      },
      "execution_count": 138,
      "outputs": [
        {
          "output_type": "execute_result",
          "data": {
            "text/plain": [
              "[0, 1, 2, 3, 4]"
            ]
          },
          "metadata": {},
          "execution_count": 138
        }
      ]
    },
    {
      "cell_type": "code",
      "source": [
        "# Mengambil potongan data dari indeks 3 hingga 2 dari akhir\n",
        "a[3 : -2]"
      ],
      "metadata": {
        "colab": {
          "base_uri": "https://localhost:8080/"
        },
        "id": "LGlzmrX-87ZQ",
        "outputId": "c74d5989-6b56-434b-c33c-4a40c4d62b4e"
      },
      "execution_count": 139,
      "outputs": [
        {
          "output_type": "execute_result",
          "data": {
            "text/plain": [
              "[3, 4]"
            ]
          },
          "metadata": {},
          "execution_count": 139
        }
      ]
    },
    {
      "cell_type": "code",
      "source": [
        "# Mengambil potongan data dari awal hingga indeks 4 (indeks 5 tidak termasuk)\n",
        "a[ : 5]"
      ],
      "metadata": {
        "colab": {
          "base_uri": "https://localhost:8080/"
        },
        "id": "x2TUqn5S8-z3",
        "outputId": "cc912be7-8a64-40f8-eab0-1811623048df"
      },
      "execution_count": 140,
      "outputs": [
        {
          "output_type": "execute_result",
          "data": {
            "text/plain": [
              "[0, 1, 2, 3, 4]"
            ]
          },
          "metadata": {},
          "execution_count": 140
        }
      ]
    },
    {
      "cell_type": "code",
      "source": [
        "# Mengambil potongan data dari indeks 3 hingga akhir\n",
        "a[3 : ]"
      ],
      "metadata": {
        "colab": {
          "base_uri": "https://localhost:8080/"
        },
        "id": "8bMuHVG_9BbA",
        "outputId": "60e91583-07ef-49d3-a380-242d6226831e"
      },
      "execution_count": 141,
      "outputs": [
        {
          "output_type": "execute_result",
          "data": {
            "text/plain": [
              "[3, 4, 5, 6]"
            ]
          },
          "metadata": {},
          "execution_count": 141
        }
      ]
    },
    {
      "cell_type": "code",
      "source": [
        "# Mengambil potongan data dengan langkah 2\n",
        "a[ : : 2]"
      ],
      "metadata": {
        "colab": {
          "base_uri": "https://localhost:8080/"
        },
        "id": "aILDhdJR9Dv8",
        "outputId": "d882af88-6b1f-4674-9d39-7449d2f45602"
      },
      "execution_count": 142,
      "outputs": [
        {
          "output_type": "execute_result",
          "data": {
            "text/plain": [
              "[0, 2, 4, 6]"
            ]
          },
          "metadata": {},
          "execution_count": 142
        }
      ]
    },
    {
      "cell_type": "code",
      "source": [
        "# Mengambil potongan data dari indeks 1 hingga 4 (indeks 5 tidak termasuk) dengan langkah 2\n",
        "a[1 : 5 : 2]"
      ],
      "metadata": {
        "colab": {
          "base_uri": "https://localhost:8080/"
        },
        "id": "D-fVAg5Y9H2W",
        "outputId": "315f4303-c72f-4025-a933-74f769cb5e1b"
      },
      "execution_count": 143,
      "outputs": [
        {
          "output_type": "execute_result",
          "data": {
            "text/plain": [
              "[1, 3]"
            ]
          },
          "metadata": {},
          "execution_count": 143
        }
      ]
    },
    {
      "cell_type": "code",
      "source": [
        "# Memutar urutan data dari akhir ke awal\n",
        "a[ : : -1]"
      ],
      "metadata": {
        "colab": {
          "base_uri": "https://localhost:8080/"
        },
        "id": "Qvt-0lT0--Hi",
        "outputId": "c52d378a-9939-4ecc-9174-ba45feeef33c"
      },
      "execution_count": 144,
      "outputs": [
        {
          "output_type": "execute_result",
          "data": {
            "text/plain": [
              "[6, 5, 4, 3, 2, 1, 0]"
            ]
          },
          "metadata": {},
          "execution_count": 144
        }
      ]
    },
    {
      "cell_type": "markdown",
      "source": [
        "# Join & Split"
      ],
      "metadata": {
        "id": "upb2GE3s_QU5"
      }
    },
    {
      "cell_type": "code",
      "source": [
        "# Menggabungkan atau memisahkan data dalam list atau string\n",
        "a = [\"cat\", \"dog\", \"fish\"]"
      ],
      "metadata": {
        "id": "ow4tPNrG_UN2"
      },
      "execution_count": 145,
      "outputs": []
    },
    {
      "cell_type": "code",
      "source": [
        "# Menggabungkan data dalam list dengan spasi sebagai pemisah\n",
        "\" \".join(a)"
      ],
      "metadata": {
        "colab": {
          "base_uri": "https://localhost:8080/",
          "height": 35
        },
        "id": "sjI0Z-ziAk_B",
        "outputId": "ff759ab3-ce06-4236-8688-ab6641030c19"
      },
      "execution_count": 146,
      "outputs": [
        {
          "output_type": "execute_result",
          "data": {
            "text/plain": [
              "'cat dog fish'"
            ],
            "application/vnd.google.colaboratory.intrinsic+json": {
              "type": "string"
            }
          },
          "metadata": {},
          "execution_count": 146
        }
      ]
    },
    {
      "cell_type": "code",
      "source": [
        "# Menggabungkan data dalam list dengan koma dan spasi sebagai pemisah\n",
        "\", \".join(a)"
      ],
      "metadata": {
        "colab": {
          "base_uri": "https://localhost:8080/",
          "height": 35
        },
        "id": "iovmYJ0LAo2y",
        "outputId": "c66c3edb-8f43-49d7-8fff-b9f8867e885b"
      },
      "execution_count": 147,
      "outputs": [
        {
          "output_type": "execute_result",
          "data": {
            "text/plain": [
              "'cat, dog, fish'"
            ],
            "application/vnd.google.colaboratory.intrinsic+json": {
              "type": "string"
            }
          },
          "metadata": {},
          "execution_count": 147
        }
      ]
    },
    {
      "cell_type": "code",
      "source": [
        "a = \"Program ini tentang intro python\""
      ],
      "metadata": {
        "id": "nVDXVyL1AshZ"
      },
      "execution_count": 148,
      "outputs": []
    },
    {
      "cell_type": "code",
      "source": [
        "# Memisahkan kata-kata dalam string menjadi elemen-elemen dalam list\n",
        "a.split()"
      ],
      "metadata": {
        "colab": {
          "base_uri": "https://localhost:8080/"
        },
        "id": "hXGSN3naAz0T",
        "outputId": "827cbc88-a777-41c8-edf5-40e29bd402cc"
      },
      "execution_count": 149,
      "outputs": [
        {
          "output_type": "execute_result",
          "data": {
            "text/plain": [
              "['Program', 'ini', 'tentang', 'intro', 'python']"
            ]
          },
          "metadata": {},
          "execution_count": 149
        }
      ]
    },
    {
      "cell_type": "code",
      "source": [
        "a = \"Hari ini, ibu pergi ke pasar\""
      ],
      "metadata": {
        "id": "6WDyjhoYA1bh"
      },
      "execution_count": 150,
      "outputs": []
    },
    {
      "cell_type": "code",
      "source": [
        "# Memisahkan kalimat dalam string menjadi elemen-elemen dalam list\n",
        "a.split(\", \")"
      ],
      "metadata": {
        "colab": {
          "base_uri": "https://localhost:8080/"
        },
        "id": "5qLz9xcrA858",
        "outputId": "bf86e065-3cf1-485d-d697-6db2e19b5faa"
      },
      "execution_count": 151,
      "outputs": [
        {
          "output_type": "execute_result",
          "data": {
            "text/plain": [
              "['Hari ini', 'ibu pergi ke pasar']"
            ]
          },
          "metadata": {},
          "execution_count": 151
        }
      ]
    },
    {
      "cell_type": "markdown",
      "source": [
        "# Dictionary"
      ],
      "metadata": {
        "id": "EUDjOUzIBCkc"
      }
    },
    {
      "cell_type": "markdown",
      "source": [
        "key : value"
      ],
      "metadata": {
        "id": "tRZqc4eLBFPC"
      }
    },
    {
      "cell_type": "code",
      "source": [
        "# Struktur data yang menyimpan pasangan key dan value\n",
        "a = {\n",
        "    \"fish\" : \"ikan\",\n",
        "    \"cat\" : \"kucing\",\n",
        "    \"dog\" : \"anjing\"\n",
        "}"
      ],
      "metadata": {
        "id": "P_bQDK69BLZN"
      },
      "execution_count": 152,
      "outputs": []
    },
    {
      "cell_type": "code",
      "source": [
        "# Mengakses value dari key \"fish\"\n",
        "a[\"fish\"]"
      ],
      "metadata": {
        "colab": {
          "base_uri": "https://localhost:8080/",
          "height": 35
        },
        "id": "kPJZ1kptBWf3",
        "outputId": "8636bbee-1725-4245-b242-4fd7e93944da"
      },
      "execution_count": 153,
      "outputs": [
        {
          "output_type": "execute_result",
          "data": {
            "text/plain": [
              "'ikan'"
            ],
            "application/vnd.google.colaboratory.intrinsic+json": {
              "type": "string"
            }
          },
          "metadata": {},
          "execution_count": 153
        }
      ]
    },
    {
      "cell_type": "code",
      "source": [
        "# Menambahkan pasangan key dan value baru\n",
        "a['bird'] = 'burung'"
      ],
      "metadata": {
        "id": "d436HPzcBX8O"
      },
      "execution_count": 154,
      "outputs": []
    },
    {
      "cell_type": "code",
      "source": [
        "# Menampilkan dictionary\n",
        "a"
      ],
      "metadata": {
        "colab": {
          "base_uri": "https://localhost:8080/"
        },
        "id": "qiOGgi8mBc1-",
        "outputId": "9a2cc70a-ad69-42d7-a7d9-e47b7bb52292"
      },
      "execution_count": 155,
      "outputs": [
        {
          "output_type": "execute_result",
          "data": {
            "text/plain": [
              "{'fish': 'ikan', 'cat': 'kucing', 'dog': 'anjing', 'bird': 'burung'}"
            ]
          },
          "metadata": {},
          "execution_count": 155
        }
      ]
    },
    {
      "cell_type": "code",
      "source": [
        "# Menambahkan pasangan key dan value baru\n",
        "a['elephant'] = 'gajah'"
      ],
      "metadata": {
        "id": "vdYQUprZBdR3"
      },
      "execution_count": 156,
      "outputs": []
    },
    {
      "cell_type": "code",
      "source": [
        "# Menampilkan dictionary\n",
        "a"
      ],
      "metadata": {
        "colab": {
          "base_uri": "https://localhost:8080/"
        },
        "id": "fiFnhivDBiEH",
        "outputId": "2beecdbc-412b-4a18-a173-5623a23825fa"
      },
      "execution_count": 157,
      "outputs": [
        {
          "output_type": "execute_result",
          "data": {
            "text/plain": [
              "{'fish': 'ikan',\n",
              " 'cat': 'kucing',\n",
              " 'dog': 'anjing',\n",
              " 'bird': 'burung',\n",
              " 'elephant': 'gajah'}"
            ]
          },
          "metadata": {},
          "execution_count": 157
        }
      ]
    },
    {
      "cell_type": "code",
      "source": [
        "# Mengambil semua keys dalam dictionary\n",
        "a.keys()"
      ],
      "metadata": {
        "colab": {
          "base_uri": "https://localhost:8080/"
        },
        "id": "JSUzk7K3Bidp",
        "outputId": "4102b7d2-aca9-42e9-eba3-eb69e1892b07"
      },
      "execution_count": 158,
      "outputs": [
        {
          "output_type": "execute_result",
          "data": {
            "text/plain": [
              "dict_keys(['fish', 'cat', 'dog', 'bird', 'elephant'])"
            ]
          },
          "metadata": {},
          "execution_count": 158
        }
      ]
    },
    {
      "cell_type": "code",
      "source": [
        "# Mengambil semua values dalam dictionary\n",
        "a.values()"
      ],
      "metadata": {
        "colab": {
          "base_uri": "https://localhost:8080/"
        },
        "id": "xZTGX0RCBlb6",
        "outputId": "8edb4117-3b33-4548-b5e9-4a53fd6fcabe"
      },
      "execution_count": 159,
      "outputs": [
        {
          "output_type": "execute_result",
          "data": {
            "text/plain": [
              "dict_values(['ikan', 'kucing', 'anjing', 'burung', 'gajah'])"
            ]
          },
          "metadata": {},
          "execution_count": 159
        }
      ]
    },
    {
      "cell_type": "code",
      "source": [
        "nilai = {\"Andi\" : 40, \"Budi\" : 55, \"Caca\" : 75, \"Deddy\" : 100}"
      ],
      "metadata": {
        "id": "VNE69ryUBnh-"
      },
      "execution_count": 160,
      "outputs": []
    },
    {
      "cell_type": "code",
      "source": [
        "# Mengubah value dari key \"Deddy\"\n",
        "nilai['Deddy'] = 90"
      ],
      "metadata": {
        "id": "VHMJ65aMB7vg"
      },
      "execution_count": 161,
      "outputs": []
    },
    {
      "cell_type": "code",
      "source": [
        "# Menampilkan dictionary\n",
        "nilai"
      ],
      "metadata": {
        "colab": {
          "base_uri": "https://localhost:8080/"
        },
        "id": "mWbIfMGYB_6Q",
        "outputId": "85569289-586f-4270-f203-9da7cfc24844"
      },
      "execution_count": 162,
      "outputs": [
        {
          "output_type": "execute_result",
          "data": {
            "text/plain": [
              "{'Andi': 40, 'Budi': 55, 'Caca': 75, 'Deddy': 90}"
            ]
          },
          "metadata": {},
          "execution_count": 162
        }
      ]
    },
    {
      "cell_type": "markdown",
      "source": [
        "# Function"
      ],
      "metadata": {
        "id": "ZD29-agwCJmF"
      }
    },
    {
      "cell_type": "code",
      "source": [
        "# Blok kode yang dapat digunakan kembali untuk melakukan tugas tertentu\n",
        "def jumlah(a, b):\n",
        "  return a + b"
      ],
      "metadata": {
        "id": "DWHEnxI6COAA"
      },
      "execution_count": 163,
      "outputs": []
    },
    {
      "cell_type": "code",
      "source": [
        "# Memanggil fungsi jumlah dengan argumen 3 dan 4\n",
        "jumlah(3, 4)"
      ],
      "metadata": {
        "colab": {
          "base_uri": "https://localhost:8080/"
        },
        "id": "zwZRH3uWCTsK",
        "outputId": "7cf11464-e615-4971-8c42-8fd86eacca3f"
      },
      "execution_count": 164,
      "outputs": [
        {
          "output_type": "execute_result",
          "data": {
            "text/plain": [
              "7"
            ]
          },
          "metadata": {},
          "execution_count": 164
        }
      ]
    },
    {
      "cell_type": "code",
      "source": [
        "def perkalian(a, b):\n",
        "  return a*b"
      ],
      "metadata": {
        "id": "MgRMlG0ICWBb"
      },
      "execution_count": 165,
      "outputs": []
    },
    {
      "cell_type": "code",
      "source": [
        "# Memanggil fungsi perkalian dengan argumen 123 dan 123\n",
        "perkalian(123, 123)"
      ],
      "metadata": {
        "colab": {
          "base_uri": "https://localhost:8080/"
        },
        "id": "4ZYU6X_2CbHK",
        "outputId": "16204cf6-0cbf-46b0-fa9c-5d1a689db2bf"
      },
      "execution_count": 166,
      "outputs": [
        {
          "output_type": "execute_result",
          "data": {
            "text/plain": [
              "15129"
            ]
          },
          "metadata": {},
          "execution_count": 166
        }
      ]
    },
    {
      "cell_type": "markdown",
      "source": [
        "# Conditionals"
      ],
      "metadata": {
        "id": "MF5yu_VkCemY"
      }
    },
    {
      "cell_type": "code",
      "source": [
        "# Mengevaluasi kondisi dan melakukan aksi berdasarkan kondisi yang terpenuhi\n",
        "score = 50"
      ],
      "metadata": {
        "id": "ewVzsYJEChSy"
      },
      "execution_count": 167,
      "outputs": []
    },
    {
      "cell_type": "code",
      "source": [
        "if 0 <= score < 60:\n",
        "  print(\"Indeks: C\")\n",
        "elif 60 <= score < 80:\n",
        "  print(\"Indeks: B\")\n",
        "elif 80 <= score < 100:\n",
        "  print(\"Indeks: A\")\n",
        "elif score == 100:\n",
        "  print(\"Indeks: S\")\n",
        "else:\n",
        "  print(\"nilainya ngaco\")"
      ],
      "metadata": {
        "colab": {
          "base_uri": "https://localhost:8080/"
        },
        "id": "N8pUNt8XCrNm",
        "outputId": "231e8e10-300d-4a9b-fdc9-98322867785f"
      },
      "execution_count": 168,
      "outputs": [
        {
          "output_type": "stream",
          "name": "stdout",
          "text": [
            "Indeks: C\n"
          ]
        }
      ]
    },
    {
      "cell_type": "code",
      "source": [
        "def konversi_ke_indeks(score):\n",
        "  if 0 <= score < 60:\n",
        "    return \"Indeks: C\"\n",
        "  elif 60 <= score < 80:\n",
        "    return \"Indeks: B\"\n",
        "  elif 80 <= score < 100:\n",
        "    return \"Indeks: A\"\n",
        "  elif score == 100:\n",
        "    return \"Indeks: S\"\n",
        "  else:\n",
        "    return \"nilainya ngaco\""
      ],
      "metadata": {
        "id": "l5RMWNOkDJ8D"
      },
      "execution_count": 169,
      "outputs": []
    },
    {
      "cell_type": "code",
      "source": [
        "# Memanggil fungsi konversi_ke_indeks dengan argumen -10\n",
        "konversi_ke_indeks(-10)"
      ],
      "metadata": {
        "colab": {
          "base_uri": "https://localhost:8080/",
          "height": 35
        },
        "id": "2pzhRoCdDojT",
        "outputId": "27103586-6032-4b84-b228-95d426779087"
      },
      "execution_count": 170,
      "outputs": [
        {
          "output_type": "execute_result",
          "data": {
            "text/plain": [
              "'nilainya ngaco'"
            ],
            "application/vnd.google.colaboratory.intrinsic+json": {
              "type": "string"
            }
          },
          "metadata": {},
          "execution_count": 170
        }
      ]
    },
    {
      "cell_type": "markdown",
      "source": [
        "# Iterasi (Menelusuri)"
      ],
      "metadata": {
        "id": "kRTvBv42DuQ8"
      }
    },
    {
      "cell_type": "code",
      "source": [
        "# Melakukan pengulangan atau penelusuran terhadap elemen-elemen dalam list\n",
        "numbers = [1, 2, 3, 4, 5, 6]"
      ],
      "metadata": {
        "id": "82SCKslHDwkp"
      },
      "execution_count": 171,
      "outputs": []
    },
    {
      "cell_type": "code",
      "source": [
        "# Menampilkan setiap elemen dalam list numbers\n",
        "for n in numbers:\n",
        "  print(n)"
      ],
      "metadata": {
        "colab": {
          "base_uri": "https://localhost:8080/"
        },
        "id": "JCkD3LBTD-jJ",
        "outputId": "c2f0dac9-aea5-4d00-cd0c-012ea51e314b"
      },
      "execution_count": 172,
      "outputs": [
        {
          "output_type": "stream",
          "name": "stdout",
          "text": [
            "1\n",
            "2\n",
            "3\n",
            "4\n",
            "5\n",
            "6\n"
          ]
        }
      ]
    },
    {
      "cell_type": "code",
      "source": [
        "# Menampilkan hasil konversi indeks untuk setiap elemen dalam list\n",
        "for score in [80, 30, 55, 120]:\n",
        "  print(konversi_ke_indeks(score))"
      ],
      "metadata": {
        "colab": {
          "base_uri": "https://localhost:8080/"
        },
        "id": "UGiRJ6GwEB9X",
        "outputId": "8af84db2-fd4e-4473-fbae-512fb0f56375"
      },
      "execution_count": 173,
      "outputs": [
        {
          "output_type": "stream",
          "name": "stdout",
          "text": [
            "Indeks: A\n",
            "Indeks: C\n",
            "Indeks: C\n",
            "nilainya ngaco\n"
          ]
        }
      ]
    },
    {
      "cell_type": "code",
      "source": [
        "# Menampilkan hasil pangkat dua dari setiap elemen dalam list numbers\n",
        "for number in numbers:\n",
        "  print(number**2)"
      ],
      "metadata": {
        "colab": {
          "base_uri": "https://localhost:8080/"
        },
        "id": "_EiJfJ_rEML8",
        "outputId": "df3a42e7-50ab-47f6-e635-c13f92180c5a"
      },
      "execution_count": 174,
      "outputs": [
        {
          "output_type": "stream",
          "name": "stdout",
          "text": [
            "1\n",
            "4\n",
            "9\n",
            "16\n",
            "25\n",
            "36\n"
          ]
        }
      ]
    },
    {
      "cell_type": "code",
      "source": [
        "animals = [\"Cat\", \"Fish\", \"Elephant\", \"Bird\"]"
      ],
      "metadata": {
        "id": "WxLfl75PESMV"
      },
      "execution_count": 175,
      "outputs": []
    },
    {
      "cell_type": "code",
      "source": [
        "# Menampilkan setiap elemen dalam list animals\n",
        "for animal in animals:\n",
        "  print(animal)"
      ],
      "metadata": {
        "colab": {
          "base_uri": "https://localhost:8080/"
        },
        "id": "fCk9C7GGEeqv",
        "outputId": "70f62956-54e3-4452-edd4-aaa86f120b64"
      },
      "execution_count": 176,
      "outputs": [
        {
          "output_type": "stream",
          "name": "stdout",
          "text": [
            "Cat\n",
            "Fish\n",
            "Elephant\n",
            "Bird\n"
          ]
        }
      ]
    },
    {
      "cell_type": "code",
      "source": [
        "# Menampilkan setiap elemen dalam list animals dengan huruf kapital\n",
        "for animal in animals:\n",
        "  print(animal.upper())"
      ],
      "metadata": {
        "colab": {
          "base_uri": "https://localhost:8080/"
        },
        "id": "FsWw_0C2EjOh",
        "outputId": "d5d713d9-7215-4cbc-c0d7-a2b37655693b"
      },
      "execution_count": 177,
      "outputs": [
        {
          "output_type": "stream",
          "name": "stdout",
          "text": [
            "CAT\n",
            "FISH\n",
            "ELEPHANT\n",
            "BIRD\n"
          ]
        }
      ]
    },
    {
      "cell_type": "code",
      "source": [
        "# Menampilkan setiap elemen dalam list animals dengan huruf kecil\n",
        "for animal in animals:\n",
        "  print(animal.lower())"
      ],
      "metadata": {
        "colab": {
          "base_uri": "https://localhost:8080/"
        },
        "id": "4PTG6XBEEpSy",
        "outputId": "cbde9da2-d97e-499e-a49e-bf6d1d7be42c"
      },
      "execution_count": 178,
      "outputs": [
        {
          "output_type": "stream",
          "name": "stdout",
          "text": [
            "cat\n",
            "fish\n",
            "elephant\n",
            "bird\n"
          ]
        }
      ]
    },
    {
      "cell_type": "code",
      "source": [
        "# Menampilkan angka 2, 4 (range dari 2 hingga 5 dengan langkah 2)\n",
        "for i in range(2, 5, 2):\n",
        "  print(i)"
      ],
      "metadata": {
        "colab": {
          "base_uri": "https://localhost:8080/"
        },
        "id": "81y2_9IbEsKi",
        "outputId": "6684236c-d1c2-4063-f1f4-3850796c27be"
      },
      "execution_count": 179,
      "outputs": [
        {
          "output_type": "stream",
          "name": "stdout",
          "text": [
            "2\n",
            "4\n"
          ]
        }
      ]
    },
    {
      "cell_type": "code",
      "source": [
        "# Menampilkan key dan value dari setiap pasangan dalam dictionary\n",
        "a"
      ],
      "metadata": {
        "colab": {
          "base_uri": "https://localhost:8080/"
        },
        "id": "3c1oR1bHE2Hw",
        "outputId": "39508f1b-230b-492b-8c3b-d39780d24ec5"
      },
      "execution_count": 180,
      "outputs": [
        {
          "output_type": "execute_result",
          "data": {
            "text/plain": [
              "{'fish': 'ikan',\n",
              " 'cat': 'kucing',\n",
              " 'dog': 'anjing',\n",
              " 'bird': 'burung',\n",
              " 'elephant': 'gajah'}"
            ]
          },
          "metadata": {},
          "execution_count": 180
        }
      ]
    },
    {
      "cell_type": "code",
      "source": [
        "a.keys()"
      ],
      "metadata": {
        "colab": {
          "base_uri": "https://localhost:8080/"
        },
        "id": "e2cW5gBFE2mC",
        "outputId": "5a540372-9fc8-4547-acb8-463389640935"
      },
      "execution_count": 181,
      "outputs": [
        {
          "output_type": "execute_result",
          "data": {
            "text/plain": [
              "dict_keys(['fish', 'cat', 'dog', 'bird', 'elephant'])"
            ]
          },
          "metadata": {},
          "execution_count": 181
        }
      ]
    },
    {
      "cell_type": "code",
      "source": [
        "for key in a.keys():\n",
        "  print(f\"Bahasa Indonesia dari {key} adalah {a[key]}\")"
      ],
      "metadata": {
        "colab": {
          "base_uri": "https://localhost:8080/"
        },
        "id": "969XwdfHE36g",
        "outputId": "33104fa5-96b3-4abd-8c24-d4b05c93f55f"
      },
      "execution_count": 182,
      "outputs": [
        {
          "output_type": "stream",
          "name": "stdout",
          "text": [
            "Bahasa Indonesia dari fish adalah ikan\n",
            "Bahasa Indonesia dari cat adalah kucing\n",
            "Bahasa Indonesia dari dog adalah anjing\n",
            "Bahasa Indonesia dari bird adalah burung\n",
            "Bahasa Indonesia dari elephant adalah gajah\n"
          ]
        }
      ]
    },
    {
      "cell_type": "code",
      "source": [
        "# Menambahkan hasil pangkat dua dari setiap angka dalam range ke dalam list a\n",
        "a = []\n",
        "for i in range(5):\n",
        "  a.append(i**2)"
      ],
      "metadata": {
        "id": "vCYTdKjVFBcj"
      },
      "execution_count": 183,
      "outputs": []
    },
    {
      "cell_type": "code",
      "source": [
        "# Menampilkan list a\n",
        "a"
      ],
      "metadata": {
        "colab": {
          "base_uri": "https://localhost:8080/"
        },
        "id": "M6G2bSSGF0rZ",
        "outputId": "c03c28ec-1439-4677-f449-c864549b7a74"
      },
      "execution_count": 184,
      "outputs": [
        {
          "output_type": "execute_result",
          "data": {
            "text/plain": [
              "[0, 1, 4, 9, 16]"
            ]
          },
          "metadata": {},
          "execution_count": 184
        }
      ]
    },
    {
      "cell_type": "markdown",
      "source": [
        "# Python Comprehension"
      ],
      "metadata": {
        "id": "KjFswU19F2VV"
      }
    },
    {
      "cell_type": "code",
      "source": [
        "# Memanfaatkan sintaksis yang ringkas untuk membuat list, set, atau dictionary dengan cepat\n",
        "a = [i**2 for i in range(5)]"
      ],
      "metadata": {
        "id": "Crg68z2uF6Ht"
      },
      "execution_count": 185,
      "outputs": []
    },
    {
      "cell_type": "code",
      "source": [
        "# Menampilkan list a\n",
        "a"
      ],
      "metadata": {
        "colab": {
          "base_uri": "https://localhost:8080/"
        },
        "id": "MgBwuK19GCx9",
        "outputId": "834301af-1ae9-4023-e9bd-247cc4a7f920"
      },
      "execution_count": 186,
      "outputs": [
        {
          "output_type": "execute_result",
          "data": {
            "text/plain": [
              "[0, 1, 4, 9, 16]"
            ]
          },
          "metadata": {},
          "execution_count": 186
        }
      ]
    },
    {
      "cell_type": "code",
      "source": [
        "# Membuat dictionary a dengan key berupa angka dari range dan value berupa hasil pangkat dua\n",
        "a = {i : i**2 for i in range(5)}"
      ],
      "metadata": {
        "id": "ZpHsCgyrGDS9"
      },
      "execution_count": 187,
      "outputs": []
    },
    {
      "cell_type": "code",
      "source": [
        "# Menampilkan dictionary a\n",
        "a"
      ],
      "metadata": {
        "colab": {
          "base_uri": "https://localhost:8080/"
        },
        "id": "YxHs6M4IGH-t",
        "outputId": "f9e76a30-7f1f-49bc-b620-5a198f935fc5"
      },
      "execution_count": 188,
      "outputs": [
        {
          "output_type": "execute_result",
          "data": {
            "text/plain": [
              "{0: 0, 1: 1, 2: 4, 3: 9, 4: 16}"
            ]
          },
          "metadata": {},
          "execution_count": 188
        }
      ]
    },
    {
      "cell_type": "code",
      "source": [
        "# Membuat list a yang berisi hasil pangkat dua dari setiap angka dalam range\n",
        "a = [i**2 for i in range(5)]"
      ],
      "metadata": {
        "id": "dC4XFaH4GJfe"
      },
      "execution_count": 189,
      "outputs": []
    },
    {
      "cell_type": "code",
      "source": [
        "# Menampilkan list a\n",
        "a"
      ],
      "metadata": {
        "colab": {
          "base_uri": "https://localhost:8080/"
        },
        "id": "Noo7BAP6GSnk",
        "outputId": "994693a6-50e6-457d-800c-1c217a4551e2"
      },
      "execution_count": 190,
      "outputs": [
        {
          "output_type": "execute_result",
          "data": {
            "text/plain": [
              "[0, 1, 4, 9, 16]"
            ]
          },
          "metadata": {},
          "execution_count": 190
        }
      ]
    },
    {
      "cell_type": "code",
      "source": [
        "# Membuat set dengan elemen yang unik\n",
        "{1, 1, 2, 3, 1, 2, 4, 3, 2, 3, 2, 1, 4}"
      ],
      "metadata": {
        "colab": {
          "base_uri": "https://localhost:8080/"
        },
        "id": "DLK-a1vGGUvp",
        "outputId": "987fa467-604f-4b76-a844-1a2221f360a6"
      },
      "execution_count": 191,
      "outputs": [
        {
          "output_type": "execute_result",
          "data": {
            "text/plain": [
              "{1, 2, 3, 4}"
            ]
          },
          "metadata": {},
          "execution_count": 191
        }
      ]
    },
    {
      "cell_type": "code",
      "source": [
        "# Membuat list nilai dengan hasil konversi indeks dari setiap elemen dalam list\n",
        "nilai = [konversi_ke_indeks(score) for score in [20, 40, 80, 30, 10, -5, 105]]"
      ],
      "metadata": {
        "id": "qVpUknzQGajS"
      },
      "execution_count": 192,
      "outputs": []
    },
    {
      "cell_type": "code",
      "source": [
        "# Menampilkan list nilai\n",
        "nilai"
      ],
      "metadata": {
        "colab": {
          "base_uri": "https://localhost:8080/"
        },
        "id": "IpENbTljGlQR",
        "outputId": "631f2aa0-5e0d-442b-a9c0-069f0177c566"
      },
      "execution_count": 193,
      "outputs": [
        {
          "output_type": "execute_result",
          "data": {
            "text/plain": [
              "['Indeks: C',\n",
              " 'Indeks: C',\n",
              " 'Indeks: A',\n",
              " 'Indeks: C',\n",
              " 'Indeks: C',\n",
              " 'nilainya ngaco',\n",
              " 'nilainya ngaco']"
            ]
          },
          "metadata": {},
          "execution_count": 193
        }
      ]
    }
  ]
}