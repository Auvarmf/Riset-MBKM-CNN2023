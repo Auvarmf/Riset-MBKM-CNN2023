{
  "nbformat": 4,
  "nbformat_minor": 0,
  "metadata": {
    "colab": {
      "provenance": [],
      "authorship_tag": "ABX9TyMzEOsQwGEsPolQKuni6XJP",
      "include_colab_link": true
    },
    "kernelspec": {
      "name": "python3",
      "display_name": "Python 3"
    },
    "language_info": {
      "name": "python"
    }
  },
  "cells": [
    {
      "cell_type": "markdown",
      "metadata": {
        "id": "view-in-github",
        "colab_type": "text"
      },
      "source": [
        "<a href=\"https://colab.research.google.com/github/Auvarmf/Riset-MBKM-CNN2023/blob/main/Perhitungan_MTK_Algo_CNNv3.ipynb\" target=\"_parent\"><img src=\"https://colab.research.google.com/assets/colab-badge.svg\" alt=\"Open In Colab\"/></a>"
      ]
    },
    {
      "cell_type": "code",
      "execution_count": 29,
      "metadata": {
        "id": "P45S4VC-UIrI"
      },
      "outputs": [],
      "source": [
        "import os\n",
        "import cv2\n",
        "import csv\n",
        "import numpy as np\n",
        "import pandas as pd\n",
        "from google.colab import drive\n",
        "from google.colab.patches import cv2_imshow"
      ]
    },
    {
      "cell_type": "code",
      "source": [
        "def save_channel_to_csv(channel, channel_name, output_folder):\n",
        "    output_path = os.path.join(output_folder, f'{channel_name}_values.csv')\n",
        "\n",
        "    with open(output_path, 'w', newline='') as csvfile:\n",
        "        csvwriter = csv.writer(csvfile)\n",
        "        csvwriter.writerow([f'{channel_name} Channel'])\n",
        "\n",
        "        for row in channel:\n",
        "            csvwriter.writerow(row)"
      ],
      "metadata": {
        "id": "ExwA8eCjUOwI"
      },
      "execution_count": 19,
      "outputs": []
    },
    {
      "cell_type": "code",
      "source": [
        "drive.mount('MBKMCNN')\n",
        "\n",
        "input_image_path = 'MBKMCNN/MyDrive/MBKMCNN/dataset/skenario-2/training/2017051002/face_2017051002_20221231_Masuk_46.png'\n",
        "original_image = cv2.imread(input_image_path)\n",
        "if original_image is None:\n",
        "    raise ValueError(f\"Failed to read image from '{input_image_path}'\")\n",
        "\n",
        "resized_image = cv2.resize(original_image, (32, 32))"
      ],
      "metadata": {
        "colab": {
          "base_uri": "https://localhost:8080/"
        },
        "id": "FRlt32HrUUx6",
        "outputId": "69239b39-2506-41c1-b604-e3a12fb8a233"
      },
      "execution_count": 20,
      "outputs": [
        {
          "output_type": "stream",
          "name": "stdout",
          "text": [
            "Drive already mounted at MBKMCNN; to attempt to forcibly remount, call drive.mount(\"MBKMCNN\", force_remount=True).\n"
          ]
        }
      ]
    },
    {
      "cell_type": "code",
      "source": [
        "output_folder_path = 'MBKMCNN/MyDrive/MBKMCNN/dataset/skenario-2/converted_images'\n",
        "os.makedirs(output_folder_path, exist_ok=True)\n",
        "\n",
        "output_image_path = os.path.join(output_folder_path, 'converted_image.jpg')\n",
        "cv2.imwrite(output_image_path, resized_image)"
      ],
      "metadata": {
        "colab": {
          "base_uri": "https://localhost:8080/"
        },
        "id": "Sy4kzxOqUvVV",
        "outputId": "828834f0-6f3c-46ca-a671-8ed93b430bcb"
      },
      "execution_count": 21,
      "outputs": [
        {
          "output_type": "execute_result",
          "data": {
            "text/plain": [
              "True"
            ]
          },
          "metadata": {},
          "execution_count": 21
        }
      ]
    },
    {
      "cell_type": "code",
      "source": [
        "# Dapatkan nilai matriks RGB\n",
        "rgb_matrix = resized_image\n",
        "\n",
        "# Ambil masing-masing channel\n",
        "red_channel = rgb_matrix[:, :, 0]\n",
        "green_channel = rgb_matrix[:, :, 1]\n",
        "blue_channel = rgb_matrix[:, :, 2]\n",
        "\n",
        "save_channel_to_csv(red_channel, 'Red', output_folder_path)\n",
        "save_channel_to_csv(green_channel, 'Green', output_folder_path)\n",
        "save_channel_to_csv(blue_channel, 'Blue', output_folder_path)"
      ],
      "metadata": {
        "id": "5WvQSBreU80l"
      },
      "execution_count": 22,
      "outputs": []
    },
    {
      "cell_type": "code",
      "source": [
        "print(\"Original Image:\")\n",
        "cv2_imshow(original_image)\n",
        "\n",
        "print(\"Resized Image:\")\n",
        "cv2_imshow(resized_image)"
      ],
      "metadata": {
        "colab": {
          "base_uri": "https://localhost:8080/",
          "height": 139
        },
        "id": "VReLJs2dU_Sg",
        "outputId": "49f4de90-c10b-4cd5-c8aa-41398e3c33fe"
      },
      "execution_count": 28,
      "outputs": [
        {
          "output_type": "stream",
          "name": "stdout",
          "text": [
            "Original Image:\n"
          ]
        },
        {
          "output_type": "display_data",
          "data": {
            "text/plain": [
              "<PIL.Image.Image image mode=RGB size=53x53>"
            ],
            "image/png": "[encoded data removed]"
          },
          "metadata": {}
        },
        {
          "output_type": "stream",
          "name": "stdout",
          "text": [
            "Resized Image:\n"
          ]
        },
        {
          "output_type": "display_data",
          "data": {
            "text/plain": [
              "<PIL.Image.Image image mode=RGB size=32x32>"
            ],
            "image/png": "[encoded data removed]"
          },
          "metadata": {}
        }
      ]
    }
  ]
}