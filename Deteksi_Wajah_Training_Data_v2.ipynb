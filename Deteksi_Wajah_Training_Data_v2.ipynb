{
  "nbformat": 4,
  "nbformat_minor": 0,
  "metadata": {
    "colab": {
      "provenance": [],
      "authorship_tag": "ABX9TyOFsmSWmOKE3ioyvfrN42yf",
      "include_colab_link": true
    },
    "kernelspec": {
      "name": "python3",
      "display_name": "Python 3"
    },
    "language_info": {
      "name": "python"
    }
  },
  "cells": [
    {
      "cell_type": "markdown",
      "metadata": {
        "id": "view-in-github",
        "colab_type": "text"
      },
      "source": [
        "<a href=\"https://colab.research.google.com/github/Auvarmf/Riset-MBKM-CNN2023/blob/main/Deteksi_Wajah_Training_Data_v2.ipynb\" target=\"_parent\"><img src=\"https://colab.research.google.com/assets/colab-badge.svg\" alt=\"Open In Colab\"/></a>"
      ]
    },
    {
      "cell_type": "code",
      "execution_count": 23,
      "metadata": {
        "id": "RxB-9pU4a7u0"
      },
      "outputs": [],
      "source": [
        "# Import library\n",
        "import os\n",
        "import cv2\n",
        "import numpy as np\n",
        "from google.colab import drive"
      ]
    },
    {
      "cell_type": "code",
      "source": [
        "# Mount Google Drive untuk mengakses file dan folder\n",
        "drive.mount('MBKMCNN')\n",
        "\n",
        "old_dir = 'raw_data'\n",
        "training_dir = 'dataset/skenario-2/training'\n",
        "testing_dir = 'dataset/skenario-2/testing'\n",
        "old_path = os.path.join('/content/MBKMCNN/MyDrive/MBKMCNN', old_dir)"
      ],
      "metadata": {
        "colab": {
          "base_uri": "https://localhost:8080/"
        },
        "id": "xcwWQRPh1X_V",
        "outputId": "ee2a6b5f-1ac3-4416-86e0-90378ac31f9c"
      },
      "execution_count": 37,
      "outputs": [
        {
          "output_type": "stream",
          "name": "stdout",
          "text": [
            "Drive already mounted at MBKMCNN; to attempt to forcibly remount, call drive.mount(\"MBKMCNN\", force_remount=True).\n"
          ]
        }
      ]
    },
    {
      "cell_type": "code",
      "source": [
        "# Fungsi untuk mendeteksi dan menyimpan wajah dalam gambar\n",
        "def detect_faces(image, path):\n",
        "    gray = cv2.cvtColor(image, cv2.COLOR_BGR2GRAY)\n",
        "    face_cascade = cv2.CascadeClassifier(cv2.data.haarcascades + 'haarcascade_frontalface_default.xml')\n",
        "    faces = face_cascade.detectMultiScale(gray, scaleFactor=1.01, minNeighbors=5, minSize=(30, 30))\n",
        "\n",
        "    if len(faces) > 0:\n",
        "        x, y, w, h = faces[0]\n",
        "\n",
        "        cv2.rectangle(image, (x, y), (x + w, y + h), (0, 255, 0), 2)\n",
        "        crop = image[y:y + h, x:x + w]\n",
        "\n",
        "        if crop.size > 0:\n",
        "            cv2.imwrite(path, crop)\n",
        "            return True\n",
        "        else:\n",
        "            print(\"Error: Area wajah tidak terdeteksi\" + path)\n",
        "            return False\n",
        "    else:\n",
        "        print(\"Error: Wajah tidak terdeteksi\" + path)\n",
        "        return False"
      ],
      "metadata": {
        "id": "3vX-L9Qr3pGm"
      },
      "execution_count": 28,
      "outputs": []
    },
    {
      "cell_type": "code",
      "source": [
        "failed_photo = 0\n",
        "for item in os.listdir(old_path):\n",
        "    identifier, date, status, _ = item.split('_')\n",
        "    image_path = os.path.join(old_path, item)\n",
        "\n",
        "    if status in ['Masuk', 'Pulang']:\n",
        "        if identifier != '':\n",
        "            if status == 'Masuk':\n",
        "                new_dir = os.path.join('/content/MBKMCNN/MyDrive/MBKMCNN', training_dir, identifier)\n",
        "            elif status == 'Pulang':\n",
        "                new_dir = os.path.join('/content/MBKMCNN/MyDrive/MBKMCNN', testing_dir, identifier)\n",
        "\n",
        "            if not os.path.exists(new_dir):\n",
        "                os.makedirs(new_dir)\n",
        "\n",
        "            new_face_path = os.path.join(new_dir, 'face_' + item)\n",
        "\n",
        "            image = cv2.imread(image_path)\n",
        "            if image is None:\n",
        "                print(\"Error: Image not loaded properly:\", image_path)\n",
        "                failed_photo += 1\n",
        "                continue\n",
        "\n",
        "            result = detect_faces(image, new_face_path)\n",
        "            if not result:\n",
        "                failed_photo += 1\n",
        "\n",
        "print('Foto tidak terdeteksi:', failed_photo)"
      ],
      "metadata": {
        "colab": {
          "base_uri": "https://localhost:8080/"
        },
        "id": "4IWkGgU-9pxp",
        "outputId": "2086c3ea-63d7-42e7-9476-2a6104903863"
      },
      "execution_count": 41,
      "outputs": [
        {
          "output_type": "stream",
          "name": "stdout",
          "text": [
            "Error: Wajah tidak terdeteksi/content/MBKMCNN/MyDrive/MBKMCNN/dataset/skenario-2/testing/2017051026/face_2017051026_20221226_Pulang_42.png\n",
            "Error: Wajah tidak terdeteksi/content/MBKMCNN/MyDrive/MBKMCNN/dataset/skenario-2/testing/2017051028/face_2017051028_20221227_Pulang_96.png\n",
            "Error: Wajah tidak terdeteksi/content/MBKMCNN/MyDrive/MBKMCNN/dataset/skenario-2/training/2017051013/face_2017051013_20221228_Masuk_71.png\n",
            "Error: Wajah tidak terdeteksi/content/MBKMCNN/MyDrive/MBKMCNN/dataset/skenario-2/testing/2017051044/face_2017051044_20221226_Pulang_11.png\n",
            "Error: Wajah tidak terdeteksi/content/MBKMCNN/MyDrive/MBKMCNN/dataset/skenario-2/training/2007051044/face_2007051044_20221229_Masuk_35.png\n",
            "Error: Wajah tidak terdeteksi/content/MBKMCNN/MyDrive/MBKMCNN/dataset/skenario-2/training/2017051044/face_2017051044_20221226_Masuk_89.png\n",
            "Error: Wajah tidak terdeteksi/content/MBKMCNN/MyDrive/MBKMCNN/dataset/skenario-2/testing/2017051013/face_2017051013_20221226_Pulang_58.png\n",
            "Error: Wajah tidak terdeteksi/content/MBKMCNN/MyDrive/MBKMCNN/dataset/skenario-2/testing/2017051044/face_2017051044_20221226_Pulang_4.png\n",
            "Error: Wajah tidak terdeteksi/content/MBKMCNN/MyDrive/MBKMCNN/dataset/skenario-2/testing/2017051044/face_2017051044_20221230_Pulang_91.png\n",
            "Error: Wajah tidak terdeteksi/content/MBKMCNN/MyDrive/MBKMCNN/dataset/skenario-2/training/2017051051/face_2017051051_20221230_Masuk_67.png\n",
            "Error: Wajah tidak terdeteksi/content/MBKMCNN/MyDrive/MBKMCNN/dataset/skenario-2/training/2057051005/face_2057051005_20221230_Masuk_81.png\n",
            "Error: Wajah tidak terdeteksi/content/MBKMCNN/MyDrive/MBKMCNN/dataset/skenario-2/training/2057051024/face_2057051024_20221228_Masuk_41.png\n",
            "Error: Wajah tidak terdeteksi/content/MBKMCNN/MyDrive/MBKMCNN/dataset/skenario-2/training/2067051001/face_2067051001_20221228_Masuk_39.png\n",
            "Foto tidak terdeteksi: 13\n"
          ]
        }
      ]
    }
  ]
}