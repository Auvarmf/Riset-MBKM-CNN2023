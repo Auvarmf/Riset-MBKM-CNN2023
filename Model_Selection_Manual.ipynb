{
  "nbformat": 4,
  "nbformat_minor": 0,
  "metadata": {
    "colab": {
      "provenance": [],
      "authorship_tag": "ABX9TyMIcYsB/eyfC8oh9FeGLgEH",
      "include_colab_link": true
    },
    "kernelspec": {
      "name": "python3",
      "display_name": "Python 3"
    },
    "language_info": {
      "name": "python"
    }
  },
  "cells": [
    {
      "cell_type": "markdown",
      "metadata": {
        "id": "view-in-github",
        "colab_type": "text"
      },
      "source": [
        "<a href=\"https://colab.research.google.com/github/Auvarmf/Riset-MBKM-CNN2023/blob/main/Model_Selection_Manual.ipynb\" target=\"_parent\"><img src=\"https://colab.research.google.com/assets/colab-badge.svg\" alt=\"Open In Colab\"/></a>"
      ]
    },
    {
      "cell_type": "code",
      "execution_count": 117,
      "metadata": {
        "id": "0m1o-KrKysiM"
      },
      "outputs": [],
      "source": [
        "import numpy as np\n",
        "import pandas as pd\n",
        "import os\n",
        "from sklearn.metrics import classification_report\n",
        "import seaborn as sn; sn.set(font_scale=1.4)\n",
        "from sklearn.utils import shuffle\n",
        "import matplotlib.pyplot as plt\n",
        "import cv2\n",
        "import tensorflow as tf\n",
        "from tqdm import tqdm\n",
        "from google.colab import drive\n",
        "from sklearn.metrics import accuracy_score\n",
        "from keras.layers import GlobalAveragePooling2D, Dense, Input\n",
        "from keras.models import Model\n",
        "from keras.optimizers import Adam\n",
        "from keras.applications.inception_resnet_v2 import InceptionResNetV2\n",
        "from keras.preprocessing.image import ImageDataGenerator\n",
        "import tensorflow as tf\n",
        "from math import ceil  # Import fungsi ceil untuk membulatkan ke atas"
      ]
    },
    {
      "cell_type": "code",
      "source": [
        "# Mount Google Drive to access files and folders\n",
        "drive.mount('/content/MBKMCNN')"
      ],
      "metadata": {
        "colab": {
          "base_uri": "https://localhost:8080/"
        },
        "id": "9ANQ3RZnyx2u",
        "outputId": "36b6ab91-058c-4f6e-899c-762076211105"
      },
      "execution_count": 118,
      "outputs": [
        {
          "output_type": "stream",
          "name": "stdout",
          "text": [
            "Drive already mounted at /content/MBKMCNN; to attempt to forcibly remount, call drive.mount(\"/content/MBKMCNN\", force_remount=True).\n"
          ]
        }
      ]
    },
    {
      "cell_type": "code",
      "source": [
        "class_names = ['dita', 'nadaa']\n",
        "\n",
        "class_names_label = {class_name: i for i, class_name in enumerate(class_names)}\n",
        "\n",
        "nb_classes = len(class_names)\n",
        "\n",
        "IMAGE_SIZE = (224, 224)"
      ],
      "metadata": {
        "id": "E5Ph9J4EzQf6"
      },
      "execution_count": 119,
      "outputs": []
    },
    {
      "cell_type": "code",
      "source": [
        "def load_data():\n",
        "    DIRECTORY = '/content/MBKMCNN/MyDrive/MBKMCNN/model_selection_lanjutan'\n",
        "    CATEGORY = ['train', 'validation']\n",
        "\n",
        "    output = []\n",
        "\n",
        "    for category in CATEGORY:\n",
        "        path = os.path.join(DIRECTORY, category)\n",
        "        print(path)\n",
        "        images = []\n",
        "        labels = []\n",
        "\n",
        "        print(\"Loading {}\".format(category))\n",
        "\n",
        "        for folder in os.listdir(path):\n",
        "            label = class_names_label[folder]\n",
        "\n",
        "            for file in os.listdir(os.path.join(path, folder)):\n",
        "                img_path = os.path.join(os.path.join(path, folder), file)\n",
        "\n",
        "                image = cv2.imread(img_path)\n",
        "                image = cv2.resize(image, IMAGE_SIZE)\n",
        "\n",
        "                images.append(image)\n",
        "                labels.append(label)\n",
        "\n",
        "        images = np.array(images, dtype=\"float32\")\n",
        "        labels = np.array(labels, dtype=\"int32\")\n",
        "\n",
        "        output.append((images, labels))\n",
        "\n",
        "    return output"
      ],
      "metadata": {
        "id": "vs_zKlGnzTIi"
      },
      "execution_count": 120,
      "outputs": []
    },
    {
      "cell_type": "code",
      "source": [
        "(train_images, train_labels), (test_images, test_labels) = load_data()"
      ],
      "metadata": {
        "colab": {
          "base_uri": "https://localhost:8080/"
        },
        "id": "-3-YtAnizVN7",
        "outputId": "ad64d554-ff93-4f8a-a5b6-542cc1891d03"
      },
      "execution_count": 121,
      "outputs": [
        {
          "output_type": "stream",
          "name": "stdout",
          "text": [
            "/content/MBKMCNN/MyDrive/MBKMCNN/model_selection_lanjutan/train\n",
            "Loading train\n",
            "/content/MBKMCNN/MyDrive/MBKMCNN/model_selection_lanjutan/validation\n",
            "Loading validation\n"
          ]
        }
      ]
    },
    {
      "cell_type": "code",
      "source": [
        "def plot_accuracy_loss(history):\n",
        "    fig = plt.figure(figsize=(10, 5))\n",
        "\n",
        "    plt.subplot(221)\n",
        "    plt.plot(history.history['accuracy'], 'bo--', label='acc')\n",
        "    plt.plot(history.history['val_accuracy'], 'ro--', label='val_acc')\n",
        "    plt.title(\"train_acc vs val_acc\")\n",
        "    plt.ylabel(\"accuracy\")\n",
        "    plt.xlabel(\"epochs\")\n",
        "    plt.legend()\n",
        "\n",
        "    plt.subplot(222)\n",
        "    plt.plot(history.history['loss'], 'bo--', label='loss')\n",
        "    plt.plot(history.history['val_loss'], 'ro--', label='val_loss')\n",
        "    plt.title(\"train_loss vs val_loss\")\n",
        "    plt.ylabel(\"loss\")\n",
        "    plt.xlabel(\"epochs\")\n",
        "\n",
        "    plt.legend()\n",
        "    plt.show()"
      ],
      "metadata": {
        "id": "cFI891w1zXLb"
      },
      "execution_count": 122,
      "outputs": []
    },
    {
      "cell_type": "code",
      "source": [
        "def create_inception_resnet_model():\n",
        "    input_tensor = Input(shape=(224, 224, 3))\n",
        "\n",
        "    # Define InceptionResNetV2 architecture\n",
        "    base_model = InceptionResNetV2(include_top=False, weights=None, input_tensor=input_tensor, input_shape=(224, 224, 3))\n",
        "\n",
        "    x = base_model.output\n",
        "    x = GlobalAveragePooling2D()(x)\n",
        "    x = Dense(128, activation='relu')(x)\n",
        "    predictions = Dense(nb_classes, activation='softmax')(x)\n",
        "\n",
        "    model = Model(inputs=base_model.input, outputs=predictions)\n",
        "\n",
        "    return model"
      ],
      "metadata": {
        "id": "xm3yAQIJza-k"
      },
      "execution_count": 123,
      "outputs": []
    },
    {
      "cell_type": "code",
      "source": [
        "model = create_inception_resnet_model()\n",
        "\n",
        "tf.config.run_functions_eagerly(True)\n",
        "model.compile(optimizer=Adam(learning_rate=0.0001), loss='sparse_categorical_crossentropy', metrics=['accuracy'])"
      ],
      "metadata": {
        "id": "w4p3un4lzhQj"
      },
      "execution_count": 124,
      "outputs": []
    },
    {
      "cell_type": "code",
      "source": [
        "# Data augmentation\n",
        "train_datagen = ImageDataGenerator(\n",
        "    rotation_range=30,\n",
        "    width_shift_range=0.2,\n",
        "    height_shift_range=0.2,\n",
        "    shear_range=0.2,\n",
        "    zoom_range=0.2,\n",
        "    horizontal_flip=True,\n",
        "    fill_mode='nearest'\n",
        ")\n",
        "\n",
        "train_datagen.fit(train_images)"
      ],
      "metadata": {
        "id": "KD91TNNJzk0r"
      },
      "execution_count": 125,
      "outputs": []
    },
    {
      "cell_type": "code",
      "source": [
        "# Hitung steps_per_epoch sebagai pembulatan ke atas dari panjang train_images dibagi dengan batch_size\n",
        "steps_per_epoch = ceil(len(train_images) / 128)\n",
        "\n",
        "history = model.fit(train_datagen.flow(train_images, train_labels, batch_size=128),\n",
        "                    steps_per_epoch=steps_per_epoch,\n",
        "                    epochs=10,\n",
        "                    validation_data=(test_images, test_labels))"
      ],
      "metadata": {
        "colab": {
          "base_uri": "https://localhost:8080/"
        },
        "id": "DBRBNbQnzr9G",
        "outputId": "b6cad658-3c59-4416-9f43-d56eb49cfe4b"
      },
      "execution_count": 126,
      "outputs": [
        {
          "output_type": "stream",
          "name": "stdout",
          "text": [
            "Epoch 1/10\n"
          ]
        },
        {
          "output_type": "stream",
          "name": "stderr",
          "text": [
            "/usr/local/lib/python3.10/dist-packages/tensorflow/python/data/ops/structured_function.py:265: UserWarning: Even though the `tf.config.experimental_run_functions_eagerly` option is set, this option does not apply to tf.data functions. To force eager execution of tf.data functions, please use `tf.data.experimental.enable_debug_mode()`.\n",
            "  warnings.warn(\n"
          ]
        },
        {
          "output_type": "stream",
          "name": "stdout",
          "text": [
            "1/1 [==============================] - 26s 26s/step - loss: 0.7718 - accuracy: 0.4615 - val_loss: 1.1785 - val_accuracy: 0.5000\n",
            "Epoch 2/10\n",
            "1/1 [==============================] - 23s 23s/step - loss: 0.5961 - accuracy: 0.6154 - val_loss: 1.2184 - val_accuracy: 0.5000\n",
            "Epoch 3/10\n",
            "1/1 [==============================] - 22s 22s/step - loss: 0.4500 - accuracy: 0.7692 - val_loss: 1.2336 - val_accuracy: 0.5000\n",
            "Epoch 4/10\n",
            "1/1 [==============================] - 24s 24s/step - loss: 0.3036 - accuracy: 1.0000 - val_loss: 1.1175 - val_accuracy: 0.5000\n",
            "Epoch 5/10\n",
            "1/1 [==============================] - 25s 25s/step - loss: 0.2924 - accuracy: 0.8462 - val_loss: 1.1154 - val_accuracy: 0.5000\n",
            "Epoch 6/10\n",
            "1/1 [==============================] - 25s 25s/step - loss: 0.2022 - accuracy: 0.9231 - val_loss: 1.1142 - val_accuracy: 0.5000\n",
            "Epoch 7/10\n",
            "1/1 [==============================] - 25s 25s/step - loss: 0.2936 - accuracy: 0.8462 - val_loss: 1.0923 - val_accuracy: 0.5000\n",
            "Epoch 8/10\n",
            "1/1 [==============================] - 22s 22s/step - loss: 0.0891 - accuracy: 1.0000 - val_loss: 1.0775 - val_accuracy: 0.5000\n",
            "Epoch 9/10\n",
            "1/1 [==============================] - 24s 24s/step - loss: 0.1286 - accuracy: 1.0000 - val_loss: 1.0592 - val_accuracy: 0.5000\n",
            "Epoch 10/10\n",
            "1/1 [==============================] - 24s 24s/step - loss: 0.1433 - accuracy: 0.9231 - val_loss: 1.0218 - val_accuracy: 0.5000\n"
          ]
        }
      ]
    },
    {
      "cell_type": "code",
      "source": [
        "test_loss = model.evaluate(test_images, test_labels)\n",
        "print(\"Test loss: {:.4f}\".format(test_loss[0]))\n",
        "print(\"Test accuracy: {:.4f}\".format(test_loss[1]))"
      ],
      "metadata": {
        "colab": {
          "base_uri": "https://localhost:8080/"
        },
        "id": "WO3BeYS-zvWR",
        "outputId": "02bd9ce9-a3fc-4d26-f1c1-db8be5b78421"
      },
      "execution_count": 127,
      "outputs": [
        {
          "output_type": "stream",
          "name": "stdout",
          "text": [
            "1/1 [==============================] - 2s 2s/step - loss: 1.0218 - accuracy: 0.5000\n",
            "Test loss: 1.0218\n",
            "Test accuracy: 0.5000\n"
          ]
        }
      ]
    },
    {
      "cell_type": "code",
      "source": [
        "predictions = model.predict(test_images)\n",
        "pred_labels = np.argmax(predictions, axis=1)\n",
        "print(\"Accuracy : {}\".format(accuracy_score(test_labels, pred_labels)))"
      ],
      "metadata": {
        "colab": {
          "base_uri": "https://localhost:8080/"
        },
        "id": "MbZA5tRKzxwA",
        "outputId": "4f59cbcd-8f0c-49bc-a2d9-57ed15db2837"
      },
      "execution_count": 128,
      "outputs": [
        {
          "output_type": "stream",
          "name": "stdout",
          "text": [
            "1/1 [==============================] - 3s 3s/step\n",
            "Accuracy : 0.5\n"
          ]
        }
      ]
    },
    {
      "cell_type": "code",
      "source": [
        "print(classification_report(test_labels, pred_labels, zero_division=1))"
      ],
      "metadata": {
        "colab": {
          "base_uri": "https://localhost:8080/"
        },
        "id": "3kviNTYOz3jb",
        "outputId": "3a07aa5a-b75c-40ab-ba17-7407137a0e9c"
      },
      "execution_count": 129,
      "outputs": [
        {
          "output_type": "stream",
          "name": "stdout",
          "text": [
            "              precision    recall  f1-score   support\n",
            "\n",
            "           0       0.50      1.00      0.67         3\n",
            "           1       1.00      0.00      0.00         3\n",
            "\n",
            "    accuracy                           0.50         6\n",
            "   macro avg       0.75      0.50      0.33         6\n",
            "weighted avg       0.75      0.50      0.33         6\n",
            "\n"
          ]
        }
      ]
    }
  ]
}