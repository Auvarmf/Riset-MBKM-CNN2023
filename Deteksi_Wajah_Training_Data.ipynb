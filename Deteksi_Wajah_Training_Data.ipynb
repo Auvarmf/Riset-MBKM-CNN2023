{
  "nbformat": 4,
  "nbformat_minor": 0,
  "metadata": {
    "colab": {
      "provenance": [],
      "authorship_tag": "ABX9TyMv9xp0Pbw/IA3NFUrrw6hx",
      "include_colab_link": true
    },
    "kernelspec": {
      "name": "python3",
      "display_name": "Python 3"
    },
    "language_info": {
      "name": "python"
    }
  },
  "cells": [
    {
      "cell_type": "markdown",
      "metadata": {
        "id": "view-in-github",
        "colab_type": "text"
      },
      "source": [
        "<a href=\"https://colab.research.google.com/github/Auvarmf/Riset-MBKM-CNN2023/blob/main/Deteksi_Wajah_Training_Data.ipynb\" target=\"_parent\"><img src=\"https://colab.research.google.com/assets/colab-badge.svg\" alt=\"Open In Colab\"/></a>"
      ]
    },
    {
      "cell_type": "code",
      "execution_count": 1,
      "metadata": {
        "id": "RxB-9pU4a7u0"
      },
      "outputs": [],
      "source": [
        "# Import library\n",
        "import os\n",
        "import cv2\n",
        "import numpy as np\n",
        "from google.colab import drive"
      ]
    },
    {
      "cell_type": "code",
      "source": [
        "# Mount Google Drive untuk mengakses file dan folder\n",
        "drive.mount('MBKMCNN')\n",
        "\n",
        "old_dir = 'raw_data'\n",
        "new_dir = 'dataset_test'\n",
        "old_path = os.path.join('/content/MBKMCNN/MyDrive/MBKMCNN', old_dir)"
      ],
      "metadata": {
        "colab": {
          "base_uri": "https://localhost:8080/"
        },
        "id": "xcwWQRPh1X_V",
        "outputId": "fe2ed375-91bf-4129-88aa-69ae8a084cde"
      },
      "execution_count": 2,
      "outputs": [
        {
          "output_type": "stream",
          "name": "stdout",
          "text": [
            "Mounted at MBKMCNN\n"
          ]
        }
      ]
    },
    {
      "cell_type": "code",
      "source": [
        "# Fungsi untuk mendeteksi dan menyimpan wajah dalam gambar\n",
        "def detect_faces(image, path):\n",
        "    gray = cv2.cvtColor(image, cv2.COLOR_BGR2GRAY)\n",
        "    face_cascade = cv2.CascadeClassifier(cv2.data.haarcascades + 'haarcascade_frontalface_default.xml')\n",
        "    faces = face_cascade.detectMultiScale(gray, scaleFactor=1.01, minNeighbors=5, minSize=(30, 30))\n",
        "\n",
        "    if len(faces) > 0:\n",
        "        x, y, w, h = faces[0]\n",
        "\n",
        "        cv2.rectangle(image, (x, y), (x + w, y + h), (0, 255, 0), 2)\n",
        "        crop = image[y:y + h, x:x + w]\n",
        "\n",
        "        if crop.size > 0:\n",
        "            cv2.imwrite(path, crop)\n",
        "            return True\n",
        "        else:\n",
        "            print(\"Error: Area wajah tidak terdeteksi\" + path)\n",
        "            return False\n",
        "    else:\n",
        "        print(\"Error: Wajah tidak terdeteksi\" + path)\n",
        "        return False"
      ],
      "metadata": {
        "id": "3vX-L9Qr3pGm"
      },
      "execution_count": 9,
      "outputs": []
    },
    {
      "cell_type": "code",
      "source": [
        "failed_photo = 0\n",
        "for item in os.listdir(old_path):\n",
        "    name = item.split('_')\n",
        "    image_path = os.path.join(old_path, item)\n",
        "\n",
        "    if name[0] != '':\n",
        "        new_person_dir = os.path.join('/content/MBKMCNN/MyDrive/MBKMCNN', new_dir, name[0])\n",
        "        if not os.path.exists(new_person_dir):\n",
        "            os.makedirs(new_person_dir)\n",
        "    else:\n",
        "        continue\n",
        "\n",
        "    new_face_path = os.path.join(new_person_dir, 'face_' + item)\n",
        "\n",
        "    image = cv2.imread(image_path)\n",
        "    if image is None:\n",
        "        print(\"Error: Image not loaded properly:\", image_path)\n",
        "        failed_photo += 1\n",
        "        continue\n",
        "\n",
        "    result = detect_faces(image, new_face_path)\n",
        "    if not result:\n",
        "        failed_photo += 1\n",
        "\n",
        "print('Foto tidak terdeteksi:', failed_photo)"
      ],
      "metadata": {
        "colab": {
          "base_uri": "https://localhost:8080/"
        },
        "id": "4IWkGgU-9pxp",
        "outputId": "3545f100-0fea-411e-b54d-254e8dbe69a8"
      },
      "execution_count": 10,
      "outputs": [
        {
          "output_type": "stream",
          "name": "stdout",
          "text": [
            "Error: Wajah tidak terdeteksi/content/MBKMCNN/MyDrive/MBKMCNN/dataset_test/2017051026/face_2017051026_20221226_Pulang_42.png\n",
            "Error: Wajah tidak terdeteksi/content/MBKMCNN/MyDrive/MBKMCNN/dataset_test/2017051035/face_2017051035_20221226_Datang Terlambat_28.png\n",
            "Error: Wajah tidak terdeteksi/content/MBKMCNN/MyDrive/MBKMCNN/dataset_test/2017051028/face_2017051028_20221227_Pulang_96.png\n",
            "Error: Wajah tidak terdeteksi/content/MBKMCNN/MyDrive/MBKMCNN/dataset_test/2017051044/face_2017051044_20221226_Datang Terlambat_11.png\n",
            "Error: Wajah tidak terdeteksi/content/MBKMCNN/MyDrive/MBKMCNN/dataset_test/2017051013/face_2017051013_20221228_Masuk_71.png\n",
            "Error: Wajah tidak terdeteksi/content/MBKMCNN/MyDrive/MBKMCNN/dataset_test/2017051079/face_2017051079_20221226_Pulang Cepat_50.png\n",
            "Error: Wajah tidak terdeteksi/content/MBKMCNN/MyDrive/MBKMCNN/dataset_test/2017051044/face_2017051044_20221226_Datang Terlambat_22.png\n",
            "Error: Wajah tidak terdeteksi/content/MBKMCNN/MyDrive/MBKMCNN/dataset_test/2017051044/face_2017051044_20221226_Pulang_11.png\n",
            "Error: Wajah tidak terdeteksi/content/MBKMCNN/MyDrive/MBKMCNN/dataset_test/2007051044/face_2007051044_20221229_Masuk_35.png\n",
            "Error: Wajah tidak terdeteksi/content/MBKMCNN/MyDrive/MBKMCNN/dataset_test/2007051002/face_2007051002_20221226_Pulang Cepat_65.png\n",
            "Error: Wajah tidak terdeteksi/content/MBKMCNN/MyDrive/MBKMCNN/dataset_test/2017051044/face_2017051044_20221226_Pulang Cepat_47.png\n",
            "Error: Wajah tidak terdeteksi/content/MBKMCNN/MyDrive/MBKMCNN/dataset_test/2017051044/face_2017051044_20221226_Masuk_89.png\n",
            "Error: Wajah tidak terdeteksi/content/MBKMCNN/MyDrive/MBKMCNN/dataset_test/2017051035/face_2017051035_20221226_Datang Terlambat_19.png\n",
            "Error: Wajah tidak terdeteksi/content/MBKMCNN/MyDrive/MBKMCNN/dataset_test/2017051072/face_2017051072_20221230_Datang Terlambat_78.png\n",
            "Error: Wajah tidak terdeteksi/content/MBKMCNN/MyDrive/MBKMCNN/dataset_test/2017051013/face_2017051013_20221226_Pulang_58.png\n",
            "Error: Wajah tidak terdeteksi/content/MBKMCNN/MyDrive/MBKMCNN/dataset_test/2017051040/face_2017051040_20221226_Datang Terlambat_98.png\n",
            "Error: Wajah tidak terdeteksi/content/MBKMCNN/MyDrive/MBKMCNN/dataset_test/2017051035/face_2017051035_20221226_Pulang Cepat_69.png\n",
            "Error: Wajah tidak terdeteksi/content/MBKMCNN/MyDrive/MBKMCNN/dataset_test/2017051079/face_2017051079_20221226_Pulang Cepat_30.png\n",
            "Error: Wajah tidak terdeteksi/content/MBKMCNN/MyDrive/MBKMCNN/dataset_test/2017051044/face_2017051044_20221226_Pulang_4.png\n",
            "Error: Wajah tidak terdeteksi/content/MBKMCNN/MyDrive/MBKMCNN/dataset_test/2017051044/face_2017051044_20221226_Datang Terlambat_58.png\n",
            "Error: Wajah tidak terdeteksi/content/MBKMCNN/MyDrive/MBKMCNN/dataset_test/2017051044/face_2017051044_20221226_Datang Terlambat_81.png\n",
            "Error: Wajah tidak terdeteksi/content/MBKMCNN/MyDrive/MBKMCNN/dataset_test/2017051079/face_2017051079_20221226_Pulang Cepat_63.png\n",
            "Error: Wajah tidak terdeteksi/content/MBKMCNN/MyDrive/MBKMCNN/dataset_test/2017051044/face_2017051044_20221230_Pulang_91.png\n",
            "Error: Wajah tidak terdeteksi/content/MBKMCNN/MyDrive/MBKMCNN/dataset_test/2017051013/face_2017051013_20221226_Datang Terlambat_15.png\n",
            "Error: Wajah tidak terdeteksi/content/MBKMCNN/MyDrive/MBKMCNN/dataset_test/2017051044/face_2017051044_20221226_Datang Terlambat_54.png\n",
            "Error: Wajah tidak terdeteksi/content/MBKMCNN/MyDrive/MBKMCNN/dataset_test/2017051051/face_2017051051_20221230_Masuk_67.png\n",
            "Error: Wajah tidak terdeteksi/content/MBKMCNN/MyDrive/MBKMCNN/dataset_test/2017051043/face_2017051043_20221227_Datang Terlambat_35.png\n",
            "Error: Wajah tidak terdeteksi/content/MBKMCNN/MyDrive/MBKMCNN/dataset_test/2017051072/face_2017051072_20221230_Datang Terlambat_73.png\n",
            "Error: Wajah tidak terdeteksi/content/MBKMCNN/MyDrive/MBKMCNN/dataset_test/2017051044/face_2017051044_20221226_Datang Terlambat_57.png\n",
            "Error: Wajah tidak terdeteksi/content/MBKMCNN/MyDrive/MBKMCNN/dataset_test/2007051044/face_2007051044_20221226_Pulang Cepat_7.png\n",
            "Error: Wajah tidak terdeteksi/content/MBKMCNN/MyDrive/MBKMCNN/dataset_test/2017051044/face_2017051044_20221226_Datang Terlambat_50.png\n",
            "Error: Image not loaded properly: /content/MBKMCNN/MyDrive/MBKMCNN/raw_data/test.txt\n",
            "Error: Wajah tidak terdeteksi/content/MBKMCNN/MyDrive/MBKMCNN/dataset_test/2057051006/face_2057051006_20221226_Datang Terlambat_35.png\n",
            "Error: Wajah tidak terdeteksi/content/MBKMCNN/MyDrive/MBKMCNN/dataset_test/2017051081/face_2017051081_20221231_Datang Terlambat_57.png\n",
            "Error: Wajah tidak terdeteksi/content/MBKMCNN/MyDrive/MBKMCNN/dataset_test/2057051005/face_2057051005_20221230_Masuk_81.png\n",
            "Error: Wajah tidak terdeteksi/content/MBKMCNN/MyDrive/MBKMCNN/dataset_test/2017051081/face_2017051081_20221228_Pulang Cepat_13.png\n",
            "Error: Wajah tidak terdeteksi/content/MBKMCNN/MyDrive/MBKMCNN/dataset_test/2017051087/face_2017051087_20221226_Datang Terlambat_37.png\n",
            "Error: Wajah tidak terdeteksi/content/MBKMCNN/MyDrive/MBKMCNN/dataset_test/2057051024/face_2057051024_20221228_Masuk_41.png\n",
            "Error: Wajah tidak terdeteksi/content/MBKMCNN/MyDrive/MBKMCNN/dataset_test/2057051006/face_2057051006_20221226_Datang Terlambat_45.png\n",
            "Error: Wajah tidak terdeteksi/content/MBKMCNN/MyDrive/MBKMCNN/dataset_test/2067051001/face_2067051001_20221228_Masuk_39.png\n",
            "Error: Wajah tidak terdeteksi/content/MBKMCNN/MyDrive/MBKMCNN/dataset_test/2017051081/face_2017051081_20221226_Datang Terlambat_22.png\n",
            "Error: Wajah tidak terdeteksi/content/MBKMCNN/MyDrive/MBKMCNN/dataset_test/2017051081/face_2017051081_20221229_Datang Terlambat_79.png\n",
            "Error: Wajah tidak terdeteksi/content/MBKMCNN/MyDrive/MBKMCNN/dataset_test/2017051081/face_2017051081_20221226_Pulang Cepat_20.png\n",
            "Error: Wajah tidak terdeteksi/content/MBKMCNN/MyDrive/MBKMCNN/dataset_test/2017051010/face_2017051010_20221226_Datang Terlambat_21.png\n",
            "Foto tidak terdeteksi: 44\n"
          ]
        }
      ]
    }
  ]
}