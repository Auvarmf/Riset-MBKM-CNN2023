{
  "nbformat": 4,
  "nbformat_minor": 0,
  "metadata": {
    "colab": {
      "provenance": [],
      "authorship_tag": "ABX9TyMHipazhFF2JulrhMXynU5J",
      "include_colab_link": true
    },
    "kernelspec": {
      "name": "python3",
      "display_name": "Python 3"
    },
    "language_info": {
      "name": "python"
    }
  },
  "cells": [
    {
      "cell_type": "markdown",
      "metadata": {
        "id": "view-in-github",
        "colab_type": "text"
      },
      "source": [
        "<a href=\"https://colab.research.google.com/github/Auvarmf/Riset-MBKM-CNN2023/blob/main/MBKM_Deteksi_Wajah_v1.ipynb\" target=\"_parent\"><img src=\"https://colab.research.google.com/assets/colab-badge.svg\" alt=\"Open In Colab\"/></a>"
      ]
    },
    {
      "cell_type": "code",
      "execution_count": 9,
      "metadata": {
        "colab": {
          "base_uri": "https://localhost:8080/"
        },
        "id": "DP3Y5KfRaLD5",
        "outputId": "c1651f10-8d64-4178-9ca1-07ad4cd08fd0"
      },
      "outputs": [
        {
          "output_type": "stream",
          "name": "stdout",
          "text": [
            "Requirement already satisfied: opencv-python in /usr/local/lib/python3.10/dist-packages (4.8.0.76)\n",
            "Requirement already satisfied: numpy>=1.21.2 in /usr/local/lib/python3.10/dist-packages (from opencv-python) (1.23.5)\n"
          ]
        }
      ],
      "source": [
        "# install library OpenCV\n",
        "!pip install opencv-python"
      ]
    },
    {
      "cell_type": "code",
      "source": [
        "# Import library yang diperlukan\n",
        "import os\n",
        "import cv2\n",
        "from google.colab import drive"
      ],
      "metadata": {
        "id": "9J-MIY1LfumO"
      },
      "execution_count": 10,
      "outputs": []
    },
    {
      "cell_type": "code",
      "source": [
        "# # Mount Google Drive untuk mengakses file dan folder\n",
        "# drive.mount('/data_foto')\n",
        "\n",
        "# Definisikan path ke folder dengan foto yang akan dideteksi\n",
        "input_folder_path = 'data_foto/foto_input'\n",
        "\n",
        "# Definisikan path ke folder dataset untuk menyimpan area wajah yang terdeteksi\n",
        "output_folder_path = 'data_foto/foto_output'\n",
        "\n",
        "# Inisialisasi OpenCV's face detection model\n",
        "face_cascade = cv2.CascadeClassifier(cv2.data.haarcascades + 'haarcascade_frontalface_default.xml')"
      ],
      "metadata": {
        "id": "MMA7Wiqsf9Su"
      },
      "execution_count": 14,
      "outputs": []
    },
    {
      "cell_type": "code",
      "source": [
        "# Fungsi untuk mendeteksi dan menyimpan wajah dalam gambar\n",
        "def detect_and_save_faces(input_image_path, output_folder_path):\n",
        "    # Baca gambar\n",
        "    img = cv2.imread(input_image_path)\n",
        "\n",
        "    # Ubah ke skala abu-abu (grayscale) untuk deteksi wajah\n",
        "    gray = cv2.cvtColor(img, cv2.COLOR_BGR2GRAY)\n",
        "\n",
        "    # Lakukan deteksi wajah\n",
        "    faces = face_cascade.detectMultiScale(gray, scaleFactor=1.1, minNeighbors=5, minSize=(30, 30))\n",
        "\n",
        "    # Ambil nama file dari path\n",
        "    _, filename = os.path.split(input_image_path)\n",
        "\n",
        "    # Loop melalui semua wajah yang terdeteksi\n",
        "    for idx, (x, y, w, h) in enumerate(faces):\n",
        "        # Crop area wajah dari gambar asli\n",
        "        face = img[y:y+h, x:x+w]\n",
        "\n",
        "        # Buat nama file output dengan format face_[nama file asli]_[index].jpg\n",
        "        output_filename = f\"face_{filename}_{idx}.jpg\"\n",
        "\n",
        "         # Path untuk menyimpan area wajah ke dalam dataset\n",
        "        output_path = os.path.join(output_folder_path, output_filename)\n",
        "\n",
        "        # Simpan area wajah\n",
        "        cv2.imwrite(output_path, face)\n",
        "\n",
        "    print(f\"{len(faces)} wajah terdeteksi dan disimpan di {output_folder_path}\")\n",
        "\n",
        "# Loop melalui semua file gambar dalam folder input\n",
        "for filename in os.listdir(input_folder_path):\n",
        "    if filename.endswith('.jpg') or filename.endswith('.png'):\n",
        "        input_image_path = os.path.join(input_folder_path, filename)\n",
        "        detect_and_save_faces(input_image_path, output_folder_path)"
      ],
      "metadata": {
        "colab": {
          "base_uri": "https://localhost:8080/"
        },
        "id": "7xTpmHY9i2s5",
        "outputId": "7584d293-f426-45f8-949c-2b21a86fda14"
      },
      "execution_count": 15,
      "outputs": [
        {
          "output_type": "stream",
          "name": "stdout",
          "text": [
            "1 wajah terdeteksi dan disimpan di data_foto/foto_output\n"
          ]
        }
      ]
    }
  ]
}